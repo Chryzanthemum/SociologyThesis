{
 "cells": [
  {
   "cell_type": "code",
   "execution_count": 1,
   "metadata": {
    "collapsed": true
   },
   "outputs": [],
   "source": [
    "# Imports\n",
    "\n",
    "# pandas\n",
    "import pandas as pd\n",
    "from pandas import Series,DataFrame\n",
    "\n",
    "# numpy, matplotlib, seaborn\n",
    "import numpy as np\n",
    "import matplotlib.pyplot as plt\n",
    "import seaborn as sns\n",
    "sns.set_style('whitegrid')\n",
    "%matplotlib inline\n",
    "\n",
    "# machine learning\n",
    "from sklearn.linear_model import LogisticRegression\n",
    "from sklearn.svm import SVC, LinearSVC\n",
    "from sklearn.ensemble import RandomForestClassifier\n",
    "from sklearn.neighbors import KNeighborsClassifier\n",
    "from sklearn.naive_bayes import GaussianNB"
   ]
  },
  {
   "cell_type": "code",
   "execution_count": 2,
   "metadata": {
    "collapsed": false
   },
   "outputs": [],
   "source": [
    "# get nls csv files as a DataFrame\n",
    "nls_df = pd.read_csv(\"nls4.csv\")\n"
   ]
  },
  {
   "cell_type": "code",
   "execution_count": 3,
   "metadata": {
    "collapsed": false
   },
   "outputs": [],
   "source": [
    "#to approximate SAT/ACT scores, I'm going to just create a new variable that has 0s if there's an invalid answer and sum up their sat/act scores lmao\n",
    "#I'm going to take the higher of their average SAT score vs their ACT score\n",
    "nls_df[\"SAT_Score\"] = (nls_df[\"Z9033700\"][nls_df[\"Z9033700\"] > 0] + nls_df[\"Z9033900\"][nls_df[\"Z9033900\"] > 0])/2\n",
    "nls_df[\"ACT_Score\"] = nls_df[\"Z9034100\"][nls_df[\"Z9034100\"] > 0]\n",
    "#nls_df[\"SAT_Score2\"] = nls_df[\"Z9033700\"] + nls_df[\"Z9033900\"]"
   ]
  },
  {
   "cell_type": "code",
   "execution_count": 4,
   "metadata": {
    "collapsed": false
   },
   "outputs": [],
   "source": [
    "nls_df[\"SAT_Score\"] = nls_df[\"SAT_Score\"].fillna(0)\n",
    "nls_df[\"SAT_Score\"] = np.ceil(nls_df[\"SAT_Score\"])\n",
    "nls_df[\"ACT_Score\"] = nls_df[\"ACT_Score\"].fillna(0)\n",
    "nls_df[\"Max_Test_Score\"] = nls_df[['SAT_Score','ACT_Score']].max(axis=1)"
   ]
  },
  {
   "cell_type": "code",
   "execution_count": 5,
   "metadata": {
    "collapsed": false,
    "scrolled": true
   },
   "outputs": [],
   "source": [
    "nls_df = nls_df.drop([\"Z9033700\", \"Z9033900\", \"Z9034100\", \"SAT_Score\", \"ACT_Score\"], axis = 1)\n"
   ]
  },
  {
   "cell_type": "code",
   "execution_count": 6,
   "metadata": {
    "collapsed": false
   },
   "outputs": [],
   "source": [
    "nls_df['Gender'] = nls_df['R0536300']\n",
    "nls_df = nls_df[nls_df['R1482600'] != 3]\n",
    "nls_df['Race'] = nls_df['R1482600']"
   ]
  },
  {
   "cell_type": "code",
   "execution_count": 7,
   "metadata": {
    "collapsed": false
   },
   "outputs": [],
   "source": [
    "nls_df['HS_Grad_Year'] = nls_df['E5221200']\n",
    "nls_df['Undergrad_Finished'] = nls_df['Z9083900']"
   ]
  },
  {
   "cell_type": "code",
   "execution_count": 8,
   "metadata": {
    "collapsed": false
   },
   "outputs": [],
   "source": [
    "def poverty(x):\n",
    "    if x == 1996:\n",
    "        nls_df['PovertyRate'] = nls_df['R1204900']\n",
    "        \n",
    "    if x == 1997:\n",
    "        nls_df['PovertyRate'] = nls_df['R2563500']\n",
    "        \n",
    "    if x == 1998:\n",
    "        nls_df['PovertyRate'] = nls_df['R3885100']\n",
    "        \n",
    "    if x == 1999:\n",
    "        nls_df['PovertyRate'] = nls_df['R5464300']\n",
    "        \n",
    "    if x == 2000:\n",
    "        nls_df['PovertyRate'] = nls_df['R7228000']\n",
    "        \n",
    "    if x == 2001:\n",
    "        nls_df['PovertyRate'] = nls_df['S1541900']\n",
    "        \n",
    "    if x == 2002:\n",
    "        nls_df['PovertyRate'] = nls_df['S2011700']\n",
    "        \n",
    "    if x == 2003:\n",
    "        nls_df['PovertyRate'] = nls_df['S3812500']\n",
    "        \n",
    "    if x == 2004:\n",
    "        nls_df['PovertyRate'] = nls_df['S5412900']\n",
    "        \n",
    "    if x == 2005:\n",
    "        nls_df['PovertyRate'] = nls_df['S7513800']\n",
    "        \n",
    "    if x == 2006:\n",
    "        nls_df['PovertyRate'] = nls_df['T0014200']\n",
    "        \n",
    "    if x == 2007:\n",
    "        nls_df['PovertyRate'] = nls_df['T2016300']\n",
    "            \n",
    "    if x == 2008:\n",
    "        nls_df['PovertyRate'] = nls_df['T3606600']\n",
    "        \n",
    "    if x == 2009:\n",
    "        nls_df['PovertyRate'] = nls_df['T5207000']\n",
    "    #nls_df['PovertyRate'] = 0.02*nls_df['PovertyRate']\n",
    "\n",
    "#def poor(a):\n",
    "#    if nls_df['PovertyRate'] <= 2:\n",
    "#        nls_df['Poor'] = 1\n",
    "#    else:\n",
    "#        nls_df['Poor'] = 0\n",
    "#nls_df['HS_Grad_Year'] = \n",
    "#nls_df['HS_Grad_Year'] = nls_df['E5221200']"
   ]
  },
  {
   "cell_type": "code",
   "execution_count": 9,
   "metadata": {
    "collapsed": false
   },
   "outputs": [],
   "source": [
    "def finaid(x, y, z):\n",
    "    if y == 2:\n",
    "        if x == 1996:\n",
    "            return z*1.33/23520\n",
    "\n",
    "        if x == 1997:\n",
    "            return z*1.29/24116\n",
    "\n",
    "        if x == 1998:\n",
    "            return z*1.27/25443\n",
    "\n",
    "        if x == 1999:\n",
    "            return z*1.25/26534\n",
    "\n",
    "        if x == 2000:\n",
    "            return z*1.22/27676\n",
    "\n",
    "        if x == 2001:\n",
    "            return z*1.17/29115\n",
    "\n",
    "        if x == 2002:\n",
    "            return z*1.16/31043\n",
    "\n",
    "        if x == 2003:\n",
    "            return z*1.13/32886\n",
    "\n",
    "        if x == 2004:\n",
    "            return z*1.11/34761\n",
    "\n",
    "        if x == 2005:\n",
    "            return z*1.08/34761\n",
    "\n",
    "        if x == 2006:\n",
    "            return z*1.04/36510\n",
    "\n",
    "        if x == 2007:\n",
    "            return z/38400\n",
    "\n",
    "        if x == 2008:\n",
    "            return z*0.97/40000\n",
    "    elif y == 1:\n",
    "        if x == 1996:\n",
    "            return z*1.33/7792\n",
    "\n",
    "        if x == 1997:\n",
    "            return z*1.29/8210\n",
    "\n",
    "        if x == 1998:\n",
    "            return z*1.27/8625\n",
    "\n",
    "        if x == 1999:\n",
    "            return z*1.25/8912\n",
    "\n",
    "        if x == 2000:\n",
    "            return z*1.22/9321\n",
    "\n",
    "        if x == 2001:\n",
    "            return z*1.17/9948\n",
    "\n",
    "        if x == 2002:\n",
    "            return z*1.16/10604\n",
    "\n",
    "        if x == 2003:\n",
    "            return z*1.13/11679\n",
    "\n",
    "        if x == 2004:\n",
    "            return z*1.11/12588\n",
    "\n",
    "        if x == 2005:\n",
    "            return z*1.08/13424\n",
    "\n",
    "        if x == 2006:\n",
    "            return z*1.04/14203\n",
    "\n",
    "        if x == 2007:\n",
    "            return z/15000\n"
   ]
  },
  {
   "cell_type": "code",
   "execution_count": null,
   "metadata": {
    "collapsed": false
   },
   "outputs": [],
   "source": []
  },
  {
   "cell_type": "code",
   "execution_count": 10,
   "metadata": {
    "collapsed": false,
    "scrolled": true
   },
   "outputs": [],
   "source": [
    "#OOOOOKAY uh, we're going to eliminate people who finished highschool in 1995 because frankly we don't have the financial data from 1996\n",
    "for a in nls_df['R0000100']:\n",
    "    poverty(a)\n"
   ]
  },
  {
   "cell_type": "code",
   "execution_count": 11,
   "metadata": {
    "collapsed": false
   },
   "outputs": [],
   "source": [
    "nls_df['PovertyRate'] = 0.01*nls_df['PovertyRate']\n",
    "#if poor, povertyrate = 0\n",
    "for b in nls_df:\n",
    "    nls_df.loc[nls_df['PovertyRate'] <= 2, 'PovertyRate'] = 0\n",
    "    nls_df.loc[nls_df['Undergrad_Finished'] <= 3, 'Undergrad_Finished'] = 0\n",
    "\n",
    "for c in nls_df:\n",
    "    \n",
    "    nls_df.loc[nls_df['Undergrad_Finished'] >= 4, 'Undergrad_Finished'] = 1\n",
    "    nls_df.loc[nls_df['PovertyRate'] >= 2, 'PovertyRate'] = 1"
   ]
  },
  {
   "cell_type": "code",
   "execution_count": 12,
   "metadata": {
    "collapsed": false
   },
   "outputs": [],
   "source": [
    "#Okay pray for me, I'm about to go find the maximum financial aid each student receives, there's legit 55 of these variables.\n",
    "#ARGHHHHHHH THIS HAS TO BE RELATIVE TO TUITION CHARGED ARGHHHHHH\n",
    "nls_df[\"Max_Fin_Aid\"] = nls_df[['R0054900','R1760200', 'R1760300', 'R1760400', 'R1760500', 'R3056100', 'R3056200', 'R3056300', 'R3056400', 'R3056500', 'R3056600', 'R3056700', 'R3056800', 'R3056900', 'R4336800', 'R4336900', 'R4337000', 'R4337100', 'R4337200', 'R4337300', 'R4337400', 'R4337500', 'R4337600', 'R6009400', 'R6009500', 'R6009600', 'R6009700', 'R6009800', 'R6009900', 'R6010000', 'R6010100', 'R6010200', 'S0416400', 'S0416500', 'S0416600', 'S0416700', 'S0416800', 'S0416900', 'S0417000', 'S0417100', 'S0417200', 'S0417300', 'S0417400', 'S2446400', 'S2446500', 'S2446600', 'S2446700', 'S2446800', 'S2446900', 'S2447000', 'S2447100', 'S2447200', 'S2447300', 'S2447400', 'S2447500']].max(axis=1)\n",
    "nls_df = nls_df.drop(['R0054900','R1760200', 'R1760300', 'R1760400', 'R1760500', 'R3056100', 'R3056200', 'R3056300', 'R3056400', 'R3056500', 'R3056600', 'R3056700', 'R3056800', 'R3056900', 'R4336800', 'R4336900', 'R4337000', 'R4337100', 'R4337200', 'R4337300', 'R4337400', 'R4337500', 'R4337600', 'R6009400', 'R6009500', 'R6009600', 'R6009700', 'R6009800', 'R6009900', 'R6010000', 'R6010100', 'R6010200', 'S0416400', 'S0416500', 'S0416600', 'S0416700', 'S0416800', 'S0416900', 'S0417000', 'S0417100', 'S0417200', 'S0417300', 'S0417400', 'S2446400', 'S2446500', 'S2446600', 'S2446700', 'S2446800', 'S2446900', 'S2447000', 'S2447100', 'S2447200', 'S2447300', 'S2447400', 'S2447500'], axis = 1)\n"
   ]
  },
  {
   "cell_type": "code",
   "execution_count": 13,
   "metadata": {
    "collapsed": false
   },
   "outputs": [],
   "source": [
    "def collegetype(x):\n",
    "    college = nls_df[['R1250600', 'R2609100','R2609200','R2609300','R2609400','R2609500',\n",
    "                                    'R3939900','R3940000','R3940100','R3940200','R3940300','R5535400',\n",
    "                                     'R5535500','R5535600','R5535700','R7295900','R7296000','R7296100',\n",
    "                                     'R7296200','R7296300','R7296400','S1618800','S1618900','S1619000',\n",
    "                                     'S1619100','S1999000','S1999100','S1999200','S1999300','S1999400',\n",
    "                                    'S3799000','S3799100','S3799200','S3799300','S5399000','S5399100',\n",
    "                                     'S5399200','S5399300','S7499000','S7499100','S7499200','S7499300',\n",
    "                                     'S7499400','S9999000','S9999100','S9999200','S9999300','S9999400',\n",
    "                                    'T1999000','T1999100','T1999200','T1999300','T1999400','T1999500',\n",
    "                                     'T1999600','T1999700','T4939000','T4939100','T4939200','T5200100',\n",
    "                                     'T5200200','T5200300','T5200400','T5200500','T6650100','T6650200',\n",
    "                                     'T6650300','T6650400','T8122100','T8122200','T8122300','T8122400']].iloc[x]\n",
    "    college = college[college != -3]\n",
    "    college = college[college != -4]\n",
    "    college = college[college != -5]\n",
    "    try:\n",
    "        nls_df['College_Type'].iloc[x] = college.mode()[0]\n",
    "    except:\n",
    "        nls_df['College_Type'][x] = 0"
   ]
  },
  {
   "cell_type": "markdown",
   "metadata": {
    "collapsed": false
   },
   "source": []
  },
  {
   "cell_type": "code",
   "execution_count": 14,
   "metadata": {
    "collapsed": false,
    "scrolled": true
   },
   "outputs": [
    {
     "name": "stderr",
     "output_type": "stream",
     "text": [
      "C:\\Users\\Benjamin\\Anaconda3\\lib\\site-packages\\pandas\\core\\indexing.py:141: SettingWithCopyWarning: \n",
      "A value is trying to be set on a copy of a slice from a DataFrame\n",
      "\n",
      "See the caveats in the documentation: http://pandas.pydata.org/pandas-docs/stable/indexing.html#indexing-view-versus-copy\n",
      "  self._setitem_with_indexer(indexer, value)\n",
      "C:\\Users\\Benjamin\\Anaconda3\\lib\\site-packages\\ipykernel\\__main__.py:20: SettingWithCopyWarning: \n",
      "A value is trying to be set on a copy of a slice from a DataFrame\n",
      "\n",
      "See the caveats in the documentation: http://pandas.pydata.org/pandas-docs/stable/indexing.html#indexing-view-versus-copy\n"
     ]
    },
    {
     "ename": "IndexError",
     "evalue": "single positional indexer is out-of-bounds",
     "output_type": "error",
     "traceback": [
      "\u001b[0;31m---------------------------------------------------------------------------\u001b[0m",
      "\u001b[0;31mIndexError\u001b[0m                                Traceback (most recent call last)",
      "\u001b[0;32m<ipython-input-14-49d7d6335e0c>\u001b[0m in \u001b[0;36m<module>\u001b[0;34m()\u001b[0m\n\u001b[1;32m      1\u001b[0m \u001b[0mnls_df\u001b[0m\u001b[1;33m[\u001b[0m\u001b[1;34m'College_Type'\u001b[0m\u001b[1;33m]\u001b[0m \u001b[1;33m=\u001b[0m \u001b[1;36m0\u001b[0m\u001b[1;33m\u001b[0m\u001b[0m\n\u001b[1;32m      2\u001b[0m \u001b[1;32mfor\u001b[0m \u001b[0mx\u001b[0m \u001b[1;32min\u001b[0m \u001b[0mnls_df\u001b[0m\u001b[1;33m.\u001b[0m\u001b[0mindex\u001b[0m\u001b[1;33m:\u001b[0m\u001b[1;33m\u001b[0m\u001b[0m\n\u001b[0;32m----> 3\u001b[0;31m     \u001b[0mcollegetype\u001b[0m\u001b[1;33m(\u001b[0m\u001b[0mx\u001b[0m\u001b[1;33m)\u001b[0m\u001b[1;33m\u001b[0m\u001b[0m\n\u001b[0m",
      "\u001b[0;32m<ipython-input-13-6de15be5d561>\u001b[0m in \u001b[0;36mcollegetype\u001b[0;34m(x)\u001b[0m\n\u001b[1;32m     11\u001b[0m                                      \u001b[1;34m'T1999600'\u001b[0m\u001b[1;33m,\u001b[0m\u001b[1;34m'T1999700'\u001b[0m\u001b[1;33m,\u001b[0m\u001b[1;34m'T4939000'\u001b[0m\u001b[1;33m,\u001b[0m\u001b[1;34m'T4939100'\u001b[0m\u001b[1;33m,\u001b[0m\u001b[1;34m'T4939200'\u001b[0m\u001b[1;33m,\u001b[0m\u001b[1;34m'T5200100'\u001b[0m\u001b[1;33m,\u001b[0m\u001b[1;33m\u001b[0m\u001b[0m\n\u001b[1;32m     12\u001b[0m                                      \u001b[1;34m'T5200200'\u001b[0m\u001b[1;33m,\u001b[0m\u001b[1;34m'T5200300'\u001b[0m\u001b[1;33m,\u001b[0m\u001b[1;34m'T5200400'\u001b[0m\u001b[1;33m,\u001b[0m\u001b[1;34m'T5200500'\u001b[0m\u001b[1;33m,\u001b[0m\u001b[1;34m'T6650100'\u001b[0m\u001b[1;33m,\u001b[0m\u001b[1;34m'T6650200'\u001b[0m\u001b[1;33m,\u001b[0m\u001b[1;33m\u001b[0m\u001b[0m\n\u001b[0;32m---> 13\u001b[0;31m                                      'T6650300','T6650400','T8122100','T8122200','T8122300','T8122400']].iloc[x]\n\u001b[0m\u001b[1;32m     14\u001b[0m     \u001b[0mcollege\u001b[0m \u001b[1;33m=\u001b[0m \u001b[0mcollege\u001b[0m\u001b[1;33m[\u001b[0m\u001b[0mcollege\u001b[0m \u001b[1;33m!=\u001b[0m \u001b[1;33m-\u001b[0m\u001b[1;36m3\u001b[0m\u001b[1;33m]\u001b[0m\u001b[1;33m\u001b[0m\u001b[0m\n\u001b[1;32m     15\u001b[0m     \u001b[0mcollege\u001b[0m \u001b[1;33m=\u001b[0m \u001b[0mcollege\u001b[0m\u001b[1;33m[\u001b[0m\u001b[0mcollege\u001b[0m \u001b[1;33m!=\u001b[0m \u001b[1;33m-\u001b[0m\u001b[1;36m4\u001b[0m\u001b[1;33m]\u001b[0m\u001b[1;33m\u001b[0m\u001b[0m\n",
      "\u001b[0;32mC:\\Users\\Benjamin\\Anaconda3\\lib\\site-packages\\pandas\\core\\indexing.py\u001b[0m in \u001b[0;36m__getitem__\u001b[0;34m(self, key)\u001b[0m\n\u001b[1;32m   1310\u001b[0m             \u001b[1;32mreturn\u001b[0m \u001b[0mself\u001b[0m\u001b[1;33m.\u001b[0m\u001b[0m_getitem_tuple\u001b[0m\u001b[1;33m(\u001b[0m\u001b[0mkey\u001b[0m\u001b[1;33m)\u001b[0m\u001b[1;33m\u001b[0m\u001b[0m\n\u001b[1;32m   1311\u001b[0m         \u001b[1;32melse\u001b[0m\u001b[1;33m:\u001b[0m\u001b[1;33m\u001b[0m\u001b[0m\n\u001b[0;32m-> 1312\u001b[0;31m             \u001b[1;32mreturn\u001b[0m \u001b[0mself\u001b[0m\u001b[1;33m.\u001b[0m\u001b[0m_getitem_axis\u001b[0m\u001b[1;33m(\u001b[0m\u001b[0mkey\u001b[0m\u001b[1;33m,\u001b[0m \u001b[0maxis\u001b[0m\u001b[1;33m=\u001b[0m\u001b[1;36m0\u001b[0m\u001b[1;33m)\u001b[0m\u001b[1;33m\u001b[0m\u001b[0m\n\u001b[0m\u001b[1;32m   1313\u001b[0m \u001b[1;33m\u001b[0m\u001b[0m\n\u001b[1;32m   1314\u001b[0m     \u001b[1;32mdef\u001b[0m \u001b[0m_getitem_axis\u001b[0m\u001b[1;33m(\u001b[0m\u001b[0mself\u001b[0m\u001b[1;33m,\u001b[0m \u001b[0mkey\u001b[0m\u001b[1;33m,\u001b[0m \u001b[0maxis\u001b[0m\u001b[1;33m=\u001b[0m\u001b[1;36m0\u001b[0m\u001b[1;33m)\u001b[0m\u001b[1;33m:\u001b[0m\u001b[1;33m\u001b[0m\u001b[0m\n",
      "\u001b[0;32mC:\\Users\\Benjamin\\Anaconda3\\lib\\site-packages\\pandas\\core\\indexing.py\u001b[0m in \u001b[0;36m_getitem_axis\u001b[0;34m(self, key, axis)\u001b[0m\n\u001b[1;32m   1626\u001b[0m \u001b[1;33m\u001b[0m\u001b[0m\n\u001b[1;32m   1627\u001b[0m                 \u001b[1;31m# validate the location\u001b[0m\u001b[1;33m\u001b[0m\u001b[1;33m\u001b[0m\u001b[0m\n\u001b[0;32m-> 1628\u001b[0;31m                 \u001b[0mself\u001b[0m\u001b[1;33m.\u001b[0m\u001b[0m_is_valid_integer\u001b[0m\u001b[1;33m(\u001b[0m\u001b[0mkey\u001b[0m\u001b[1;33m,\u001b[0m \u001b[0maxis\u001b[0m\u001b[1;33m)\u001b[0m\u001b[1;33m\u001b[0m\u001b[0m\n\u001b[0m\u001b[1;32m   1629\u001b[0m \u001b[1;33m\u001b[0m\u001b[0m\n\u001b[1;32m   1630\u001b[0m             \u001b[1;32mreturn\u001b[0m \u001b[0mself\u001b[0m\u001b[1;33m.\u001b[0m\u001b[0m_get_loc\u001b[0m\u001b[1;33m(\u001b[0m\u001b[0mkey\u001b[0m\u001b[1;33m,\u001b[0m \u001b[0maxis\u001b[0m\u001b[1;33m=\u001b[0m\u001b[0maxis\u001b[0m\u001b[1;33m)\u001b[0m\u001b[1;33m\u001b[0m\u001b[0m\n",
      "\u001b[0;32mC:\\Users\\Benjamin\\Anaconda3\\lib\\site-packages\\pandas\\core\\indexing.py\u001b[0m in \u001b[0;36m_is_valid_integer\u001b[0;34m(self, key, axis)\u001b[0m\n\u001b[1;32m   1540\u001b[0m         \u001b[0ml\u001b[0m \u001b[1;33m=\u001b[0m \u001b[0mlen\u001b[0m\u001b[1;33m(\u001b[0m\u001b[0max\u001b[0m\u001b[1;33m)\u001b[0m\u001b[1;33m\u001b[0m\u001b[0m\n\u001b[1;32m   1541\u001b[0m         \u001b[1;32mif\u001b[0m \u001b[0mkey\u001b[0m \u001b[1;33m>=\u001b[0m \u001b[0ml\u001b[0m \u001b[1;32mor\u001b[0m \u001b[0mkey\u001b[0m \u001b[1;33m<\u001b[0m \u001b[1;33m-\u001b[0m\u001b[0ml\u001b[0m\u001b[1;33m:\u001b[0m\u001b[1;33m\u001b[0m\u001b[0m\n\u001b[0;32m-> 1542\u001b[0;31m             \u001b[1;32mraise\u001b[0m \u001b[0mIndexError\u001b[0m\u001b[1;33m(\u001b[0m\u001b[1;34m\"single positional indexer is out-of-bounds\"\u001b[0m\u001b[1;33m)\u001b[0m\u001b[1;33m\u001b[0m\u001b[0m\n\u001b[0m\u001b[1;32m   1543\u001b[0m         \u001b[1;32mreturn\u001b[0m \u001b[1;32mTrue\u001b[0m\u001b[1;33m\u001b[0m\u001b[0m\n\u001b[1;32m   1544\u001b[0m \u001b[1;33m\u001b[0m\u001b[0m\n",
      "\u001b[0;31mIndexError\u001b[0m: single positional indexer is out-of-bounds"
     ]
    }
   ],
   "source": [
    "nls_df['College_Type'] = 0\n",
    "for x in nls_df.index:\n",
    "    collegetype(x)"
   ]
  },
  {
   "cell_type": "markdown",
   "metadata": {},
   "source": [
    "nls_df['Poverty_Rate'] = nls_df.apply(lambda x: poverty(x['R1250600'], x['R2609100'],x['R2609200'],x['R2609300'],x['R2609400'],x['R2609500'],\n",
    "                                    x['R3939900'],x['R3940000'],x['R3940100'],x['R3940200'],x['R3940300'],x['R5535400'],\n",
    "                                     x['R5535500'],x['R5535600'],x['R5535700'],x['R7295900'],x['R7296000'],x['R7296100'],\n",
    "                                     x['R7296200'],x['R7296300'],x['R7296400'],x['S1618800'],x['S1618900'],x['S1619000'],\n",
    "                                     x['S1619100'],x['S1999000'],x['S1999100'],x['S1999200'],x['S1999300'],x['S1999400'],\n",
    "                                    x['S3799000'],x['S3799100'],x['S3799200'],x['S3799300'],x['S5399000'],x['S5399100'],\n",
    "                                     x['S5399200'],x['S5399300'],x['S7499000'],x['S7499100'],x['S7499200'],x['S7499300'],\n",
    "                                     x['S7499400'],x['S9999000'],x['S9999100'],x['S9999200'],x['S9999300'],x['S9999400'],\n",
    "                                    x['T1999000'],x['T1999100'],x['T1999200'],x['T1999300'],x['T1999400'],x['T1999500'],\n",
    "                                     x['T1999600'],x['T1999700'],x['T4939000'],x['T4939100'],x['T4939200'],x['T5200100'],\n",
    "                                     x['T5200200'],x['T5200300'],x['T5200400'],x['T5200500'],x['T6650100'],x['T6650200'],\n",
    "                                     x['T6650300'],x['T6650400'],x['T8122100'],x['T8122200'],x['T8122300'],x['T8122400']), axis=1)"
   ]
  },
  {
   "cell_type": "code",
   "execution_count": 15,
   "metadata": {
    "collapsed": false
   },
   "outputs": [],
   "source": [
    "nls_df['FinAid'] = nls_df.apply(lambda x: finaid(x['HS_Grad_Year'], x['College_Type'], x['Max_Fin_Aid']), axis=1)\n",
    "nls_df['FinAid'] = nls_df['FinAid'].fillna(0)"
   ]
  },
  {
   "cell_type": "code",
   "execution_count": 16,
   "metadata": {
    "collapsed": false
   },
   "outputs": [],
   "source": [
    "nls_df = nls_df[['R0000100', 'Undergrad_Finished', 'Max_Test_Score', 'Gender', 'Race', 'PovertyRate', 'Max_Fin_Aid', 'College_Type', 'HS_Grad_Year', 'FinAid']]"
   ]
  },
  {
   "cell_type": "code",
   "execution_count": 17,
   "metadata": {
    "collapsed": false
   },
   "outputs": [],
   "source": [
    "nls_df = nls_df[nls_df['HS_Grad_Year'] != -4]"
   ]
  },
  {
   "cell_type": "code",
   "execution_count": 18,
   "metadata": {
    "collapsed": false
   },
   "outputs": [
    {
     "data": {
      "text/html": [
       "<div>\n",
       "<table border=\"1\" class=\"dataframe\">\n",
       "  <thead>\n",
       "    <tr style=\"text-align: right;\">\n",
       "      <th></th>\n",
       "      <th>R0000100</th>\n",
       "      <th>Undergrad_Finished</th>\n",
       "      <th>Max_Test_Score</th>\n",
       "      <th>Gender</th>\n",
       "      <th>Race</th>\n",
       "      <th>PovertyRate</th>\n",
       "      <th>Max_Fin_Aid</th>\n",
       "      <th>College_Type</th>\n",
       "      <th>HS_Grad_Year</th>\n",
       "      <th>FinAid</th>\n",
       "    </tr>\n",
       "  </thead>\n",
       "  <tbody>\n",
       "    <tr>\n",
       "      <th>0</th>\n",
       "      <td>1</td>\n",
       "      <td>1</td>\n",
       "      <td>4.0</td>\n",
       "      <td>2</td>\n",
       "      <td>4</td>\n",
       "      <td>0.0</td>\n",
       "      <td>10000</td>\n",
       "      <td>2</td>\n",
       "      <td>1998</td>\n",
       "      <td>0.499155</td>\n",
       "    </tr>\n",
       "    <tr>\n",
       "      <th>1</th>\n",
       "      <td>2</td>\n",
       "      <td>0</td>\n",
       "      <td>4.0</td>\n",
       "      <td>1</td>\n",
       "      <td>2</td>\n",
       "      <td>1.0</td>\n",
       "      <td>7000</td>\n",
       "      <td>1</td>\n",
       "      <td>1999</td>\n",
       "      <td>0.981822</td>\n",
       "    </tr>\n",
       "    <tr>\n",
       "      <th>2</th>\n",
       "      <td>3</td>\n",
       "      <td>0</td>\n",
       "      <td>2.0</td>\n",
       "      <td>2</td>\n",
       "      <td>2</td>\n",
       "      <td>0.0</td>\n",
       "      <td>-2</td>\n",
       "      <td>3</td>\n",
       "      <td>2000</td>\n",
       "      <td>0.000000</td>\n",
       "    </tr>\n",
       "    <tr>\n",
       "      <th>3</th>\n",
       "      <td>4</td>\n",
       "      <td>0</td>\n",
       "      <td>0.0</td>\n",
       "      <td>2</td>\n",
       "      <td>2</td>\n",
       "      <td>1.0</td>\n",
       "      <td>1680</td>\n",
       "      <td>1</td>\n",
       "      <td>1998</td>\n",
       "      <td>0.247374</td>\n",
       "    </tr>\n",
       "    <tr>\n",
       "      <th>4</th>\n",
       "      <td>5</td>\n",
       "      <td>0</td>\n",
       "      <td>4.0</td>\n",
       "      <td>1</td>\n",
       "      <td>2</td>\n",
       "      <td>1.0</td>\n",
       "      <td>-4</td>\n",
       "      <td>0</td>\n",
       "      <td>1999</td>\n",
       "      <td>0.000000</td>\n",
       "    </tr>\n",
       "  </tbody>\n",
       "</table>\n",
       "</div>"
      ],
      "text/plain": [
       "   R0000100  Undergrad_Finished  Max_Test_Score  Gender  Race  PovertyRate  \\\n",
       "0         1                   1             4.0       2     4          0.0   \n",
       "1         2                   0             4.0       1     2          1.0   \n",
       "2         3                   0             2.0       2     2          0.0   \n",
       "3         4                   0             0.0       2     2          1.0   \n",
       "4         5                   0             4.0       1     2          1.0   \n",
       "\n",
       "   Max_Fin_Aid  College_Type  HS_Grad_Year    FinAid  \n",
       "0        10000             2          1998  0.499155  \n",
       "1         7000             1          1999  0.981822  \n",
       "2           -2             3          2000  0.000000  \n",
       "3         1680             1          1998  0.247374  \n",
       "4           -4             0          1999  0.000000  "
      ]
     },
     "execution_count": 18,
     "metadata": {},
     "output_type": "execute_result"
    }
   ],
   "source": [
    "nls_df.head()"
   ]
  },
  {
   "cell_type": "code",
   "execution_count": 19,
   "metadata": {
    "collapsed": false
   },
   "outputs": [],
   "source": [
    "nls_df = nls_df[nls_df['College_Type'] != 3]"
   ]
  },
  {
   "cell_type": "code",
   "execution_count": 20,
   "metadata": {
    "collapsed": false
   },
   "outputs": [
    {
     "data": {
      "text/html": [
       "<div>\n",
       "<table border=\"1\" class=\"dataframe\">\n",
       "  <thead>\n",
       "    <tr style=\"text-align: right;\">\n",
       "      <th></th>\n",
       "      <th></th>\n",
       "      <th>R0000100</th>\n",
       "      <th>Undergrad_Finished</th>\n",
       "      <th>Max_Test_Score</th>\n",
       "      <th>Gender</th>\n",
       "      <th>Race</th>\n",
       "      <th>PovertyRate</th>\n",
       "      <th>Max_Fin_Aid</th>\n",
       "      <th>College_Type</th>\n",
       "      <th>HS_Grad_Year</th>\n",
       "      <th>FinAid</th>\n",
       "    </tr>\n",
       "  </thead>\n",
       "  <tbody>\n",
       "    <tr>\n",
       "      <th rowspan=\"8\" valign=\"top\">0</th>\n",
       "      <th>count</th>\n",
       "      <td>3130.000000</td>\n",
       "      <td>3130.000000</td>\n",
       "      <td>3130.000000</td>\n",
       "      <td>3130.000000</td>\n",
       "      <td>3130.000000</td>\n",
       "      <td>3130.0</td>\n",
       "      <td>3130.000000</td>\n",
       "      <td>3130.000000</td>\n",
       "      <td>3130.000000</td>\n",
       "      <td>3130.000000</td>\n",
       "    </tr>\n",
       "    <tr>\n",
       "      <th>mean</th>\n",
       "      <td>4524.953035</td>\n",
       "      <td>0.228115</td>\n",
       "      <td>1.871885</td>\n",
       "      <td>1.521406</td>\n",
       "      <td>2.706070</td>\n",
       "      <td>0.0</td>\n",
       "      <td>1534.161342</td>\n",
       "      <td>0.448243</td>\n",
       "      <td>1999.582748</td>\n",
       "      <td>0.098792</td>\n",
       "    </tr>\n",
       "    <tr>\n",
       "      <th>std</th>\n",
       "      <td>2637.200674</td>\n",
       "      <td>0.419684</td>\n",
       "      <td>2.099295</td>\n",
       "      <td>0.499621</td>\n",
       "      <td>1.346561</td>\n",
       "      <td>0.0</td>\n",
       "      <td>4429.496517</td>\n",
       "      <td>0.594025</td>\n",
       "      <td>1.594881</td>\n",
       "      <td>0.349464</td>\n",
       "    </tr>\n",
       "    <tr>\n",
       "      <th>min</th>\n",
       "      <td>1.000000</td>\n",
       "      <td>0.000000</td>\n",
       "      <td>0.000000</td>\n",
       "      <td>1.000000</td>\n",
       "      <td>1.000000</td>\n",
       "      <td>0.0</td>\n",
       "      <td>-4.000000</td>\n",
       "      <td>0.000000</td>\n",
       "      <td>1994.000000</td>\n",
       "      <td>-0.000629</td>\n",
       "    </tr>\n",
       "    <tr>\n",
       "      <th>25%</th>\n",
       "      <td>2258.000000</td>\n",
       "      <td>0.000000</td>\n",
       "      <td>0.000000</td>\n",
       "      <td>1.000000</td>\n",
       "      <td>1.000000</td>\n",
       "      <td>0.0</td>\n",
       "      <td>-4.000000</td>\n",
       "      <td>0.000000</td>\n",
       "      <td>1998.000000</td>\n",
       "      <td>0.000000</td>\n",
       "    </tr>\n",
       "    <tr>\n",
       "      <th>50%</th>\n",
       "      <td>4575.000000</td>\n",
       "      <td>0.000000</td>\n",
       "      <td>0.000000</td>\n",
       "      <td>2.000000</td>\n",
       "      <td>4.000000</td>\n",
       "      <td>0.0</td>\n",
       "      <td>-4.000000</td>\n",
       "      <td>0.000000</td>\n",
       "      <td>2000.000000</td>\n",
       "      <td>0.000000</td>\n",
       "    </tr>\n",
       "    <tr>\n",
       "      <th>75%</th>\n",
       "      <td>6847.750000</td>\n",
       "      <td>0.000000</td>\n",
       "      <td>4.000000</td>\n",
       "      <td>2.000000</td>\n",
       "      <td>4.000000</td>\n",
       "      <td>0.0</td>\n",
       "      <td>1200.000000</td>\n",
       "      <td>1.000000</td>\n",
       "      <td>2001.000000</td>\n",
       "      <td>0.000000</td>\n",
       "    </tr>\n",
       "    <tr>\n",
       "      <th>max</th>\n",
       "      <td>9022.000000</td>\n",
       "      <td>1.000000</td>\n",
       "      <td>6.000000</td>\n",
       "      <td>2.000000</td>\n",
       "      <td>4.000000</td>\n",
       "      <td>0.0</td>\n",
       "      <td>105000.000000</td>\n",
       "      <td>2.000000</td>\n",
       "      <td>2008.000000</td>\n",
       "      <td>9.423768</td>\n",
       "    </tr>\n",
       "    <tr>\n",
       "      <th rowspan=\"8\" valign=\"top\">1</th>\n",
       "      <th>count</th>\n",
       "      <td>3322.000000</td>\n",
       "      <td>3322.000000</td>\n",
       "      <td>3322.000000</td>\n",
       "      <td>3322.000000</td>\n",
       "      <td>3322.000000</td>\n",
       "      <td>3322.0</td>\n",
       "      <td>3322.000000</td>\n",
       "      <td>3322.000000</td>\n",
       "      <td>3322.000000</td>\n",
       "      <td>3322.000000</td>\n",
       "    </tr>\n",
       "    <tr>\n",
       "      <th>mean</th>\n",
       "      <td>4223.189344</td>\n",
       "      <td>0.433775</td>\n",
       "      <td>2.616797</td>\n",
       "      <td>1.492474</td>\n",
       "      <td>3.066526</td>\n",
       "      <td>1.0</td>\n",
       "      <td>2214.371162</td>\n",
       "      <td>0.573149</td>\n",
       "      <td>1999.386815</td>\n",
       "      <td>0.147619</td>\n",
       "    </tr>\n",
       "    <tr>\n",
       "      <th>std</th>\n",
       "      <td>2509.354741</td>\n",
       "      <td>0.495669</td>\n",
       "      <td>2.123780</td>\n",
       "      <td>0.500019</td>\n",
       "      <td>1.239748</td>\n",
       "      <td>0.0</td>\n",
       "      <td>4695.576306</td>\n",
       "      <td>0.628713</td>\n",
       "      <td>1.522287</td>\n",
       "      <td>0.422871</td>\n",
       "    </tr>\n",
       "    <tr>\n",
       "      <th>min</th>\n",
       "      <td>2.000000</td>\n",
       "      <td>0.000000</td>\n",
       "      <td>0.000000</td>\n",
       "      <td>1.000000</td>\n",
       "      <td>1.000000</td>\n",
       "      <td>1.0</td>\n",
       "      <td>-4.000000</td>\n",
       "      <td>0.000000</td>\n",
       "      <td>1995.000000</td>\n",
       "      <td>-0.000683</td>\n",
       "    </tr>\n",
       "    <tr>\n",
       "      <th>25%</th>\n",
       "      <td>2071.250000</td>\n",
       "      <td>0.000000</td>\n",
       "      <td>0.000000</td>\n",
       "      <td>1.000000</td>\n",
       "      <td>2.000000</td>\n",
       "      <td>1.0</td>\n",
       "      <td>-4.000000</td>\n",
       "      <td>0.000000</td>\n",
       "      <td>1998.000000</td>\n",
       "      <td>0.000000</td>\n",
       "    </tr>\n",
       "    <tr>\n",
       "      <th>50%</th>\n",
       "      <td>4138.500000</td>\n",
       "      <td>0.000000</td>\n",
       "      <td>3.000000</td>\n",
       "      <td>1.000000</td>\n",
       "      <td>4.000000</td>\n",
       "      <td>1.0</td>\n",
       "      <td>-4.000000</td>\n",
       "      <td>0.000000</td>\n",
       "      <td>1999.000000</td>\n",
       "      <td>0.000000</td>\n",
       "    </tr>\n",
       "    <tr>\n",
       "      <th>75%</th>\n",
       "      <td>6289.750000</td>\n",
       "      <td>1.000000</td>\n",
       "      <td>4.000000</td>\n",
       "      <td>2.000000</td>\n",
       "      <td>4.000000</td>\n",
       "      <td>1.0</td>\n",
       "      <td>2500.000000</td>\n",
       "      <td>1.000000</td>\n",
       "      <td>2001.000000</td>\n",
       "      <td>0.074561</td>\n",
       "    </tr>\n",
       "    <tr>\n",
       "      <th>max</th>\n",
       "      <td>9021.000000</td>\n",
       "      <td>1.000000</td>\n",
       "      <td>6.000000</td>\n",
       "      <td>2.000000</td>\n",
       "      <td>4.000000</td>\n",
       "      <td>1.0</td>\n",
       "      <td>85000.000000</td>\n",
       "      <td>2.000000</td>\n",
       "      <td>2008.000000</td>\n",
       "      <td>9.996984</td>\n",
       "    </tr>\n",
       "  </tbody>\n",
       "</table>\n",
       "</div>"
      ],
      "text/plain": [
       "            R0000100  Undergrad_Finished  Max_Test_Score       Gender  \\\n",
       "0 count  3130.000000         3130.000000     3130.000000  3130.000000   \n",
       "  mean   4524.953035            0.228115        1.871885     1.521406   \n",
       "  std    2637.200674            0.419684        2.099295     0.499621   \n",
       "  min       1.000000            0.000000        0.000000     1.000000   \n",
       "  25%    2258.000000            0.000000        0.000000     1.000000   \n",
       "  50%    4575.000000            0.000000        0.000000     2.000000   \n",
       "  75%    6847.750000            0.000000        4.000000     2.000000   \n",
       "  max    9022.000000            1.000000        6.000000     2.000000   \n",
       "1 count  3322.000000         3322.000000     3322.000000  3322.000000   \n",
       "  mean   4223.189344            0.433775        2.616797     1.492474   \n",
       "  std    2509.354741            0.495669        2.123780     0.500019   \n",
       "  min       2.000000            0.000000        0.000000     1.000000   \n",
       "  25%    2071.250000            0.000000        0.000000     1.000000   \n",
       "  50%    4138.500000            0.000000        3.000000     1.000000   \n",
       "  75%    6289.750000            1.000000        4.000000     2.000000   \n",
       "  max    9021.000000            1.000000        6.000000     2.000000   \n",
       "\n",
       "                Race  PovertyRate    Max_Fin_Aid  College_Type  HS_Grad_Year  \\\n",
       "0 count  3130.000000       3130.0    3130.000000   3130.000000   3130.000000   \n",
       "  mean      2.706070          0.0    1534.161342      0.448243   1999.582748   \n",
       "  std       1.346561          0.0    4429.496517      0.594025      1.594881   \n",
       "  min       1.000000          0.0      -4.000000      0.000000   1994.000000   \n",
       "  25%       1.000000          0.0      -4.000000      0.000000   1998.000000   \n",
       "  50%       4.000000          0.0      -4.000000      0.000000   2000.000000   \n",
       "  75%       4.000000          0.0    1200.000000      1.000000   2001.000000   \n",
       "  max       4.000000          0.0  105000.000000      2.000000   2008.000000   \n",
       "1 count  3322.000000       3322.0    3322.000000   3322.000000   3322.000000   \n",
       "  mean      3.066526          1.0    2214.371162      0.573149   1999.386815   \n",
       "  std       1.239748          0.0    4695.576306      0.628713      1.522287   \n",
       "  min       1.000000          1.0      -4.000000      0.000000   1995.000000   \n",
       "  25%       2.000000          1.0      -4.000000      0.000000   1998.000000   \n",
       "  50%       4.000000          1.0      -4.000000      0.000000   1999.000000   \n",
       "  75%       4.000000          1.0    2500.000000      1.000000   2001.000000   \n",
       "  max       4.000000          1.0   85000.000000      2.000000   2008.000000   \n",
       "\n",
       "              FinAid  \n",
       "0 count  3130.000000  \n",
       "  mean      0.098792  \n",
       "  std       0.349464  \n",
       "  min      -0.000629  \n",
       "  25%       0.000000  \n",
       "  50%       0.000000  \n",
       "  75%       0.000000  \n",
       "  max       9.423768  \n",
       "1 count  3322.000000  \n",
       "  mean      0.147619  \n",
       "  std       0.422871  \n",
       "  min      -0.000683  \n",
       "  25%       0.000000  \n",
       "  50%       0.000000  \n",
       "  75%       0.074561  \n",
       "  max       9.996984  "
      ]
     },
     "execution_count": 20,
     "metadata": {},
     "output_type": "execute_result"
    }
   ],
   "source": [
    "nls_df.groupby(['PovertyRate'], as_index=False).describe()\n"
   ]
  },
  {
   "cell_type": "code",
   "execution_count": 22,
   "metadata": {
    "collapsed": false
   },
   "outputs": [
    {
     "data": {
      "text/plain": [
       "R0000100              34\n",
       "Undergrad_Finished    34\n",
       "Max_Test_Score        34\n",
       "Gender                34\n",
       "Race                  34\n",
       "PovertyRate           34\n",
       "Max_Fin_Aid           34\n",
       "College_Type          34\n",
       "HS_Grad_Year          34\n",
       "FinAid                34\n",
       "dtype: int64"
      ]
     },
     "execution_count": 22,
     "metadata": {},
     "output_type": "execute_result"
    }
   ],
   "source": [
    "nls_df[(nls_df['College_Type'] == 0) & (nls_df['Max_Test_Score'] >= 6) & (nls_df['PovertyRate'] == 0)].count()"
   ]
  },
  {
   "cell_type": "code",
   "execution_count": 38,
   "metadata": {
    "collapsed": false
   },
   "outputs": [
    {
     "name": "stdout",
     "output_type": "stream",
     "text": [
      "R0000100              35\n",
      "Undergrad_Finished    35\n",
      "Max_Test_Score        35\n",
      "Gender                35\n",
      "Race                  35\n",
      "PovertyRate           35\n",
      "Max_Fin_Aid           35\n",
      "College_Type          35\n",
      "HS_Grad_Year          35\n",
      "FinAid                35\n",
      "dtype: int64\n",
      "R0000100              71\n",
      "Undergrad_Finished    71\n",
      "Max_Test_Score        71\n",
      "Gender                71\n",
      "Race                  71\n",
      "PovertyRate           71\n",
      "Max_Fin_Aid           71\n",
      "College_Type          71\n",
      "HS_Grad_Year          71\n",
      "FinAid                71\n",
      "dtype: int64\n"
     ]
    }
   ],
   "source": [
    "print(nls_df[(nls_df['College_Type'] != 0) & (nls_df['Undergrad_Finished'] == 0) & (nls_df['PovertyRate'] == 0) & (nls_df['FinAid'] >= 0.75) ]['FinAid'].count())\n",
    "print(nls_df[(nls_df['College_Type'] != 0) & (nls_df['Undergrad_Finished'] == 1) & (nls_df['PovertyRate'] == 0) & (nls_df['FinAid'] >= 0.75) ]['FinAid'].count())"
   ]
  },
  {
   "cell_type": "code",
   "execution_count": 40,
   "metadata": {
    "collapsed": false
   },
   "outputs": [
    {
     "name": "stdout",
     "output_type": "stream",
     "text": [
      "749\n",
      "905\n",
      "593\n",
      "490\n",
      "88\n",
      "169\n",
      "27\n",
      "90\n",
      "41\n",
      "156\n"
     ]
    }
   ],
   "source": [
    "print(nls_df[(nls_df['College_Type'] != 0) & (nls_df['Undergrad_Finished'] == 0) & (nls_df['PovertyRate'] == 1)]['FinAid'].count())\n",
    "print(nls_df[(nls_df['College_Type'] != 0) & (nls_df['Undergrad_Finished'] == 1) & (nls_df['PovertyRate'] == 1)]['FinAid'].count())\n",
    "print(nls_df[(nls_df['College_Type'] != 0) & (nls_df['Undergrad_Finished'] == 0) & (nls_df['PovertyRate'] == 1) & (nls_df['FinAid'] <= 0.25) ]['FinAid'].count())\n",
    "print(nls_df[(nls_df['College_Type'] != 0) & (nls_df['Undergrad_Finished'] == 1) & (nls_df['PovertyRate'] == 1) & (nls_df['FinAid'] <= 0.25) ]['FinAid'].count())\n",
    "print(nls_df[(nls_df['College_Type'] != 0) & (nls_df['Undergrad_Finished'] == 0) & (nls_df['PovertyRate'] == 1) & (nls_df['FinAid'] >= 0.25) & (nls_df['FinAid'] <= 0.5)]['FinAid'].count())\n",
    "print(nls_df[(nls_df['College_Type'] != 0) & (nls_df['Undergrad_Finished'] == 1) & (nls_df['PovertyRate'] == 1) & (nls_df['FinAid'] >= 0.25) & (nls_df['FinAid'] <= 0.5)]['FinAid'].count())\n",
    "print(nls_df[(nls_df['College_Type'] != 0) & (nls_df['Undergrad_Finished'] == 0) & (nls_df['PovertyRate'] == 1) & (nls_df['FinAid'] >= 0.5) & (nls_df['FinAid'] <= 0.75)]['FinAid'].count())\n",
    "print(nls_df[(nls_df['College_Type'] != 0) & (nls_df['Undergrad_Finished'] == 1) & (nls_df['PovertyRate'] == 1) & (nls_df['FinAid'] >= 0.5) & (nls_df['FinAid'] <= 0.75)]['FinAid'].count())\n",
    "print(nls_df[(nls_df['College_Type'] != 0) & (nls_df['Undergrad_Finished'] == 0) & (nls_df['PovertyRate'] == 1) & (nls_df['FinAid'] >= 0.75) ]['FinAid'].count())\n",
    "print(nls_df[(nls_df['College_Type'] != 0) & (nls_df['Undergrad_Finished'] == 1) & (nls_df['PovertyRate'] == 1) & (nls_df['FinAid'] >= 0.75) ]['FinAid'].count())"
   ]
  },
  {
   "cell_type": "code",
   "execution_count": 43,
   "metadata": {
    "collapsed": false
   },
   "outputs": [
    {
     "name": "stdout",
     "output_type": "stream",
     "text": [
      "437\n",
      "393\n",
      "0.153318077803\n",
      "0.208651399491\n",
      "3\n",
      "1\n",
      "0.0\n",
      "0.0\n",
      "33\n",
      "32\n",
      "0.333333333333\n",
      "0.28125\n",
      "191\n",
      "246\n",
      "0.387434554974\n",
      "0.434959349593\n",
      "334\n",
      "502\n",
      "0.464071856287\n",
      "0.671314741036\n",
      "176\n",
      "383\n",
      "0.5625\n",
      "0.757180156658\n",
      "64\n",
      "97\n",
      "0.734375\n",
      "0.824742268041\n"
     ]
    }
   ],
   "source": [
    "for x in range(0,7):\n",
    "    print(nls_df[(nls_df['College_Type'] != 0) & (nls_df['Max_Test_Score'] == x) & (nls_df['PovertyRate'] == 0)]['FinAid'].count())\n",
    "    print(nls_df[(nls_df['College_Type'] != 0) & (nls_df['Max_Test_Score'] == x) & (nls_df['PovertyRate'] == 1)]['FinAid'].count())\n",
    "    y = nls_df[(nls_df['College_Type'] != 0) & (nls_df['Undergrad_Finished'] == 1) & (nls_df['PovertyRate'] == 0) & (nls_df['Max_Test_Score'] == x)]['FinAid'].count()\n",
    "    z = nls_df[(nls_df['College_Type'] != 0) & (nls_df['Undergrad_Finished'] == 0) & (nls_df['PovertyRate'] == 0) & (nls_df['Max_Test_Score'] == x)]['FinAid'].count()\n",
    "    print(y/(y+z))\n",
    "    y = nls_df[(nls_df['College_Type'] != 0) & (nls_df['Undergrad_Finished'] == 1) & (nls_df['PovertyRate'] == 1) & (nls_df['Max_Test_Score'] == x)]['FinAid'].count()\n",
    "    z = nls_df[(nls_df['College_Type'] != 0) & (nls_df['Undergrad_Finished'] == 0) & (nls_df['PovertyRate'] == 1) & (nls_df['Max_Test_Score'] == x)]['FinAid'].count()\n",
    "    print(y/(y+z))"
   ]
  },
  {
   "cell_type": "code",
   "execution_count": 47,
   "metadata": {
    "collapsed": false
   },
   "outputs": [
    {
     "name": "stdout",
     "output_type": "stream",
     "text": [
      "289\n",
      "437\n",
      "0.429065743945\n",
      "0.647597254005\n",
      "45\n",
      "65\n",
      "0.688888888889\n",
      "0.830769230769\n",
      "133\n",
      "307\n",
      "0.533834586466\n",
      "0.726384364821\n",
      "43\n",
      "76\n",
      "0.651162790698\n",
      "0.881578947368\n",
      "42\n",
      "60\n",
      "0.690476190476\n",
      "0.75\n",
      "22\n",
      "37\n",
      "0.818181818182\n",
      "0.945945945946\n"
     ]
    }
   ],
   "source": [
    "for x in range(4,7):\n",
    "    print(nls_df[(nls_df['Max_Test_Score'] == x) & (nls_df['College_Type'] == 1) & (nls_df['PovertyRate'] == 0)]['FinAid'].count())\n",
    "    print(nls_df[(nls_df['Max_Test_Score'] == x) & (nls_df['College_Type'] == 1) & (nls_df['PovertyRate'] == 1)]['FinAid'].count())\n",
    "    y = nls_df[(nls_df['Undergrad_Finished'] == 1)  & (nls_df['College_Type'] == 1) & (nls_df['PovertyRate'] == 0) & (nls_df['Max_Test_Score'] == x)]['FinAid'].count()\n",
    "    z = nls_df[(nls_df['Undergrad_Finished'] == 0)  & (nls_df['College_Type'] == 1) & (nls_df['PovertyRate'] == 0) & (nls_df['Max_Test_Score'] == x)]['FinAid'].count()\n",
    "    print(y/(y+z))\n",
    "    y = nls_df[(nls_df['Undergrad_Finished'] == 1) & (nls_df['College_Type'] == 1) & (nls_df['PovertyRate'] == 1) & (nls_df['Max_Test_Score'] == x)]['FinAid'].count()\n",
    "    z = nls_df[(nls_df['Undergrad_Finished'] == 0) & (nls_df['College_Type'] == 1) & (nls_df['PovertyRate'] == 1) & (nls_df['Max_Test_Score'] == x)]['FinAid'].count()\n",
    "    print(y/(y+z))\n",
    "    \n",
    "    print(nls_df[(nls_df['Max_Test_Score'] == x) & (nls_df['College_Type'] == 2) & (nls_df['PovertyRate'] == 0)]['FinAid'].count())\n",
    "    print(nls_df[(nls_df['Max_Test_Score'] == x) & (nls_df['College_Type'] == 2) & (nls_df['PovertyRate'] == 1)]['FinAid'].count())\n",
    "    y = nls_df[(nls_df['Undergrad_Finished'] == 1) & (nls_df['College_Type'] == 2) & (nls_df['PovertyRate'] == 0) & (nls_df['Max_Test_Score'] == x)]['FinAid'].count()\n",
    "    z = nls_df[(nls_df['Undergrad_Finished'] == 0) & (nls_df['College_Type'] == 2) & (nls_df['PovertyRate'] == 0) & (nls_df['Max_Test_Score'] == x)]['FinAid'].count()\n",
    "    print(y/(y+z))\n",
    "    y = nls_df[(nls_df['Undergrad_Finished'] == 1) & (nls_df['College_Type'] == 2) & (nls_df['PovertyRate'] == 1) & (nls_df['Max_Test_Score'] == x)]['FinAid'].count()\n",
    "    z = nls_df[(nls_df['Undergrad_Finished'] == 0) & (nls_df['College_Type'] == 2) & (nls_df['PovertyRate'] == 1) & (nls_df['Max_Test_Score'] == x)]['FinAid'].count()\n",
    "    print(y/(y+z))"
   ]
  },
  {
   "cell_type": "code",
   "execution_count": 48,
   "metadata": {
    "collapsed": false
   },
   "outputs": [
    {
     "name": "stdout",
     "output_type": "stream",
     "text": [
      "4\n",
      "5\n",
      "6\n"
     ]
    }
   ],
   "source": [
    "for x in range(4,7):\n",
    "    print(x)"
   ]
  },
  {
   "cell_type": "code",
   "execution_count": 49,
   "metadata": {
    "collapsed": false
   },
   "outputs": [
    {
     "data": {
      "text/plain": [
       "R0000100              85\n",
       "Undergrad_Finished    85\n",
       "Max_Test_Score        85\n",
       "Gender                85\n",
       "Race                  85\n",
       "PovertyRate           85\n",
       "Max_Fin_Aid           85\n",
       "College_Type          85\n",
       "HS_Grad_Year          85\n",
       "FinAid                85\n",
       "dtype: int64"
      ]
     },
     "execution_count": 49,
     "metadata": {},
     "output_type": "execute_result"
    }
   ],
   "source": [
    "nls_df[(nls_df['College_Type'] == 0) & (nls_df['Max_Test_Score'] == 6)].count()"
   ]
  },
  {
   "cell_type": "code",
   "execution_count": null,
   "metadata": {
    "collapsed": false,
    "scrolled": true
   },
   "outputs": [],
   "source": [
    "nls_df['College_Attended'] = nls_df[['R1250600', 'R2609100','R2609200','R2609300','R2609400','R2609500',\n",
    "                                    'R3939900','R3940000','R3940100','R3940200','R3940300','R5535400',\n",
    "                                     'R5535500','R5535600','R5535700','R7295900','R7296000','R7296100',\n",
    "                                     'R7296200','R7296300','R7296400','S1618800','S1618900','S1619000',\n",
    "                                     'S1619100','S1999000','S1999100','S1999200','S1999300','S1999400',\n",
    "                                    'S3799000','S3799100','S3799200','S3799300','S5399000','S5399100',\n",
    "                                     'S5399200','S5399300','S7499000','S7499100','S7499200','S7499300',\n",
    "                                     'S7499400','S9999000','S9999100','S9999200','S9999300','S9999400',\n",
    "                                    'T1999000','T1999100','T1999200','T1999300','T1999400','T1999500',\n",
    "                                     'T1999600','T1999700','T4939000','T4939100','T4939200','T5200100',\n",
    "                                     'T5200200','T5200300','T5200400','T5200500','T6650100','T6650200',\n",
    "                                     'T6650300','T6650400','T8122100','T8122200','T8122300','T8122400']].max(axis=1)"
   ]
  },
  {
   "cell_type": "code",
   "execution_count": null,
   "metadata": {
    "collapsed": false
   },
   "outputs": [],
   "source": [
    "nls_df[nls_df['College_Attended'] > -3].count()"
   ]
  },
  {
   "cell_type": "code",
   "execution_count": null,
   "metadata": {
    "collapsed": false
   },
   "outputs": [],
   "source": [
    "#Now I'm about to do the fakkkkking tuition cost per term. ALSO I'M TOTALLY NEGLETCTING ANYTHING THAT'S NOT SEMESTER OR QUARTERLY SO WHOOPS\n",
    "#okay you know what? no real school is quarterly, fuck it. will revisit as necessary\n",
    "#this is a garbage approximation and I'm glad my boss will never see this\n",
    "#UHHHHHHHHHHH. i'm going to ignore the cost of housing. Jesus will understand.\n",
    "nls_df[\"Max_Tuition\"] = nls_df[['R0051800','R0051900', 'R1734000', 'R1734100', 'R1734200', 'R1734300', 'R1734400', 'R1734500', 'R1734600', 'R1734700', 'R1734800', \n",
    "                                'R1734900', 'R1735000', 'R1735100', 'R3024900', 'R3025000', 'R3025100', 'R3025200', 'R3025300', 'R3025400', 'R3025500', 'R3025600', \n",
    "                                'R3025700', 'R3025800', 'R3025900', 'R4293600', 'R4293700', 'R4293800', 'R4293900', 'R4294000', 'R4294100', 'R4294200', 'R4294300', \n",
    "                                'R4294400', 'R4294500', 'R4294600', 'R4294700', 'R5958100', 'R5958200', 'R5958300', 'R5958400', 'R5958500', 'R5958600', 'R5958700', \n",
    "                                'R5958800', 'R5958900', 'R5959000', 'R5959100', 'R5959200', 'R5959300', 'R5959400', 'R5959500', 'R5959600', 'R5959700', 'R5959800', \n",
    "                                'R5959900', 'S0350400', 'S0350500', 'S0350600', 'S0350700', 'S0350800', 'S0350900', 'S0351000', 'S0351100', 'S0351200', 'S0351300', \n",
    "                                'S0351400', 'S0351500', 'S0351600', 'S0351700', 'S0351800', 'S0351900', 'S0352000', 'S0352100', 'S0352200', 'S0352300', 'S0352400', \n",
    "                                'S0352500', 'S4156700','S4156800','S4156900','S4157000','S4157100','S4157200','S4157300','S4157400','S4157500','S4157600','S4157700',\n",
    "                                'S4157800','S4157900','S5738100', 'S5738200', 'S5738300', 'S5738400', 'S5738500', 'S5738600', 'S5738700', 'S5738800', 'S5738900', \n",
    "                                'S5739000', 'S5739100', 'S5739200', 'S5739300', 'S5739400', 'S5739500', 'S5739600', 'S5739700', 'S5739800', 'S5739900', 'S5740000', \n",
    "                                'S5740100', 'S5740200', 'S5740300', 'S5740400', 'S5740500', 'S5740600', 'S5740700', 'S5740800', 'S5740900', 'S5741000', 'S5741100', \n",
    "                                'S5741200', 'S5741300', 'S5741400', 'S5741500', 'S5741600', 'S5741700', 'S5741800', 'S5741900', 'S7820000', 'S7820100', 'S7820200', \n",
    "                                'S7820300', 'S7820400', 'S7820500', 'S7820600', 'S7820700', 'S7820800', 'S7820900', 'S7821000', 'S7821100', 'S7821200', 'S7821300', \n",
    "                                'S7821400', 'T0254300', 'T0254400', 'T0254500', 'T0254600', 'T0254700', 'T0254800', 'T0254900', 'T0255000', 'T0255100', 'T0255200',\n",
    "                                'T0255300', 'T0255400', 'T0255500', 'T0255600', 'T0255700', 'T0255800', 'T0255900', 'T0256000', 'T0256100', 'T0256200', 'T0256300', \n",
    "                                'T0256400', 'T0256500', 'T2248600', 'T2248700', 'T2248800', 'T2248900', 'T2249000', 'T2249100', 'T2249200', 'T2249300', 'T2249400', \n",
    "                                'T2249500', 'T2249600', 'T2249700', 'T2249800', 'T2249900', 'T2250000', 'T2250100', 'T2250200', 'T2250300', 'T2250400', 'T2250500',\n",
    "                                'T3806300', 'T3806400', 'T3806500', 'T3806600', 'T3806700', 'T3806800', 'T3806900', 'T3807000', 'T3807100', 'T3807200', 'T3807300',\n",
    "                                'T3807400', 'T3807500', 'T3807600', 'T5425300', 'T5425400', 'T5425500', 'T5425600', 'T5425700', 'T5425800', 'T5425900', 'T5426000', \n",
    "                               'T5426100', 'T5426200', 'T5426300', 'T5426400', 'T5426500', 'T5426600', 'T5426700', 'T5426800', 'T5426900', 'T6847800', 'T6847900', \n",
    "                               'T6848000', 'T6848100', 'T6848200', 'T6848300', 'T6848400', 'T6848500', 'T6848600', 'T6848700', 'T6848800', 'T6848900', 'T6849000',\n",
    "                               'T6849100', 'T8329900', 'T8330000', 'T8330100', 'T8330200', 'T8330300', 'T8330400', 'T8330500', 'T8330600', 'T8330700', 'T8330800',\n",
    "                               'T8330900', 'T8331000', 'T8331100', 'T8331200', 'T8331300', 'T8331400', 'T8331500', 'T8331600', 'T8331700', 'T8331800', 'T8331900',\n",
    "                               'T8332000', 'T8333300', 'T8333400', 'T8333500', 'T8333600', 'T8333700', 'T8333800']].max(axis=1)\n",
    "#this is only up to 20034"
   ]
  },
  {
   "cell_type": "code",
   "execution_count": null,
   "metadata": {
    "collapsed": false
   },
   "outputs": [],
   "source": [
    "nls_df = nls_df.drop(['R0054900','R1760200', 'R1760300', 'R1760400', 'R1760500', 'R3056100', 'R3056200', 'R3056300', 'R3056400', 'R3056500', 'R3056600', 'R3056700', 'R3056800', 'R3056900', 'R4336800', 'R4336900', 'R4337000', 'R4337100', 'R4337200', 'R4337300', 'R4337400', 'R4337500', 'R4337600', 'R6009400', 'R6009500', 'R6009600', 'R6009700', 'R6009800', 'R6009900', 'R6010000', 'R6010100', 'R6010200', 'S0416400', 'S0416500', 'S0416600', 'S0416700', 'S0416800', 'S0416900', 'S0417000', 'S0417100', 'S0417200', 'S0417300', 'S0417400', 'S2446400', 'S2446500', 'S2446600', 'S2446700', 'S2446800', 'S2446900', 'S2447000', 'S2447100', 'S2447200', 'S2447300', 'S2447400', 'S2447500'], axis = 1)\n",
    "nls_df = nls_df.drop(['R0051800','R0051900', 'R1734000', 'R1734100', 'R1734200', 'R1734300', 'R1734400', 'R1734500', 'R1734600', 'R1734700', 'R1734800', \n",
    "                                'R1734900', 'R1735000', 'R1735100', 'R3024900', 'R3025000', 'R3025100', 'R3025200', 'R3025300', 'R3025400', 'R3025500', 'R3025600', \n",
    "                                'R3025700', 'R3025800', 'R3025900', 'R4293600', 'R4293700', 'R4293800', 'R4293900', 'R4294000', 'R4294100', 'R4294200', 'R4294300', \n",
    "                                'R4294400', 'R4294500', 'R4294600', 'R4294700', 'R5958100', 'R5958200', 'R5958300', 'R5958400', 'R5958500', 'R5958600', 'R5958700', \n",
    "                                'R5958800', 'R5958900', 'R5959000', 'R5959100', 'R5959200', 'R5959300', 'R5959400', 'R5959500', 'R5959600', 'R5959700', 'R5959800', \n",
    "                                'R5959900', 'S0350400', 'S0350500', 'S0350600', 'S0350700', 'S0350800', 'S0350900', 'S0351000', 'S0351100', 'S0351200', 'S0351300', \n",
    "                                'S0351400', 'S0351500', 'S0351600', 'S0351700', 'S0351800', 'S0351900', 'S0352000', 'S0352100', 'S0352200', 'S0352300', 'S0352400', \n",
    "                                'S0352500', 'S4156700','S4156800','S4156900','S4157000','S4157100','S4157200','S4157300','S4157400','S4157500','S4157600','S4157700',\n",
    "                                'S4157800','S4157900','S5738100', 'S5738200', 'S5738300', 'S5738400', 'S5738500', 'S5738600', 'S5738700', 'S5738800', 'S5738900', \n",
    "                                'S5739000', 'S5739100', 'S5739200', 'S5739300', 'S5739400', 'S5739500', 'S5739600', 'S5739700', 'S5739800', 'S5739900', 'S5740000', \n",
    "                                'S5740100', 'S5740200', 'S5740300', 'S5740400', 'S5740500', 'S5740600', 'S5740700', 'S5740800', 'S5740900', 'S5741000', 'S5741100', \n",
    "                                'S5741200', 'S5741300', 'S5741400', 'S5741500', 'S5741600', 'S5741700', 'S5741800', 'S5741900', 'S7820000', 'S7820100', 'S7820200', \n",
    "                                'S7820300', 'S7820400', 'S7820500', 'S7820600', 'S7820700', 'S7820800', 'S7820900', 'S7821000', 'S7821100', 'S7821200', 'S7821300', \n",
    "                                'S7821400', 'T0254300', 'T0254400', 'T0254500', 'T0254600', 'T0254700', 'T0254800', 'T0254900', 'T0255000', 'T0255100', 'T0255200',\n",
    "                                'T0255300', 'T0255400', 'T0255500', 'T0255600', 'T0255700', 'T0255800', 'T0255900', 'T0256000', 'T0256100', 'T0256200', 'T0256300', \n",
    "                                'T0256400', 'T0256500', 'T2248600', 'T2248700', 'T2248800', 'T2248900', 'T2249000', 'T2249100', 'T2249200', 'T2249300', 'T2249400', \n",
    "                                'T2249500', 'T2249600', 'T2249700', 'T2249800', 'T2249900', 'T2250000', 'T2250100', 'T2250200', 'T2250300', 'T2250400', 'T2250500',\n",
    "                                'T3806300', 'T3806400', 'T3806500', 'T3806600', 'T3806700', 'T3806800', 'T3806900', 'T3807000', 'T3807100', 'T3807200', 'T3807300',\n",
    "                                'T3807400', 'T3807500', 'T3807600', 'T5425300', 'T5425400', 'T5425500', 'T5425600', 'T5425700', 'T5425800', 'T5425900', 'T5426000', \n",
    "                               'T5426100', 'T5426200', 'T5426300', 'T5426400', 'T5426500', 'T5426600', 'T5426700', 'T5426800', 'T5426900', 'T6847800', 'T6847900', \n",
    "                               'T6848000', 'T6848100', 'T6848200', 'T6848300', 'T6848400', 'T6848500', 'T6848600', 'T6848700', 'T6848800', 'T6848900', 'T6849000',\n",
    "                               'T6849100', 'T8329900', 'T8330000', 'T8330100', 'T8330200', 'T8330300', 'T8330400', 'T8330500', 'T8330600', 'T8330700', 'T8330800',\n",
    "                               'T8330900', 'T8331000', 'T8331100', 'T8331200', 'T8331300', 'T8331400', 'T8331500', 'T8331600', 'T8331700', 'T8331800', 'T8331900',\n",
    "                               'T8332000', 'T8333300', 'T8333400', 'T8333500', 'T8333600', 'T8333700', 'T8333800'], axis = 1)\n"
   ]
  },
  {
   "cell_type": "code",
   "execution_count": null,
   "metadata": {
    "collapsed": false
   },
   "outputs": [],
   "source": [
    "test = nls_df[['R0051800','R0051900', 'R1734000', 'R1734100', 'R1734200', 'R1734300', 'R1734400', 'R1734500', 'R1734600', 'R1734700', 'R1734800', \n",
    "                                'R1734900', 'R1735000', 'R1735100', 'R3024900', 'R3025000', 'R3025100', 'R3025200', 'R3025300', 'R3025400', 'R3025500', 'R3025600', \n",
    "                                'R3025700', 'R3025800', 'R3025900', 'R4293600', 'R4293700', 'R4293800', 'R4293900', 'R4294000', 'R4294100', 'R4294200', 'R4294300', \n",
    "                                'R4294400', 'R4294500', 'R4294600', 'R4294700', 'R5958100', 'R5958200', 'R5958300', 'R5958400', 'R5958500', 'R5958600', 'R5958700', \n",
    "                                'R5958800', 'R5958900', 'R5959000', 'R5959100', 'R5959200', 'R5959300', 'R5959400', 'R5959500', 'R5959600', 'R5959700', 'R5959800', \n",
    "                                'R5959900', 'S0350400', 'S0350500', 'S0350600', 'S0350700', 'S0350800', 'S0350900', 'S0351000', 'S0351100', 'S0351200', 'S0351300', \n",
    "                                'S0351400', 'S0351500', 'S0351600', 'S0351700', 'S0351800', 'S0351900', 'S0352000', 'S0352100', 'S0352200', 'S0352300', 'S0352400', \n",
    "                                'S0352500', 'S4156700','S4156800','S4156900','S4157000','S4157100','S4157200','S4157300','S4157400','S4157500','S4157600','S4157700',\n",
    "                                'S4157800','S4157900','S5738100', 'S5738200', 'S5738300', 'S5738400', 'S5738500', 'S5738600', 'S5738700', 'S5738800', 'S5738900', \n",
    "                                'S5739000', 'S5739100', 'S5739200', 'S5739300', 'S5739400', 'S5739500', 'S5739600', 'S5739700', 'S5739800', 'S5739900', 'S5740000', \n",
    "                                'S5740100', 'S5740200', 'S5740300', 'S5740400', 'S5740500', 'S5740600', 'S5740700', 'S5740800', 'S5740900', 'S5741000', 'S5741100', \n",
    "                                'S5741200', 'S5741300', 'S5741400', 'S5741500', 'S5741600', 'S5741700', 'S5741800', 'S5741900', 'S7820000', 'S7820100', 'S7820200', \n",
    "                                'S7820300', 'S7820400', 'S7820500', 'S7820600', 'S7820700', 'S7820800', 'S7820900', 'S7821000', 'S7821100', 'S7821200', 'S7821300', \n",
    "                                'S7821400', 'T0254300', 'T0254400', 'T0254500', 'T0254600', 'T0254700', 'T0254800', 'T0254900', 'T0255000', 'T0255100', 'T0255200',\n",
    "                                'T0255300', 'T0255400', 'T0255500', 'T0255600', 'T0255700', 'T0255800', 'T0255900', 'T0256000', 'T0256100', 'T0256200', 'T0256300', \n",
    "                                'T0256400', 'T0256500', 'T2248600', 'T2248700', 'T2248800', 'T2248900', 'T2249000', 'T2249100', 'T2249200', 'T2249300', 'T2249400', \n",
    "                                'T2249500', 'T2249600', 'T2249700', 'T2249800', 'T2249900', 'T2250000', 'T2250100', 'T2250200', 'T2250300', 'T2250400', 'T2250500',\n",
    "                                'T3806300', 'T3806400', 'T3806500', 'T3806600', 'T3806700', 'T3806800', 'T3806900', 'T3807000', 'T3807100', 'T3807200', 'T3807300',\n",
    "                                'T3807400', 'T3807500', 'T3807600', 'T5425300', 'T5425400', 'T5425500', 'T5425600', 'T5425700', 'T5425800', 'T5425900', 'T5426000', \n",
    "                               'T5426100', 'T5426200', 'T5426300', 'T5426400', 'T5426500', 'T5426600', 'T5426700', 'T5426800', 'T5426900', 'T6847800', 'T6847900', \n",
    "                               'T6848000', 'T6848100', 'T6848200', 'T6848300', 'T6848400', 'T6848500', 'T6848600', 'T6848700', 'T6848800', 'T6848900', 'T6849000',\n",
    "                               'T6849100', 'T8329900', 'T8330000', 'T8330100', 'T8330200', 'T8330300', 'T8330400', 'T8330500', 'T8330600', 'T8330700', 'T8330800',\n",
    "                               'T8330900', 'T8331000', 'T8331100', 'T8331200', 'T8331300', 'T8331400', 'T8331500', 'T8331600', 'T8331700', 'T8331800', 'T8331900',\n",
    "                               'T8332000', 'T8333300', 'T8333400', 'T8333500', 'T8333600', 'T8333700', 'T8333800', 'Max_Tuition', 'Max_Fin_Aid']]"
   ]
  },
  {
   "cell_type": "code",
   "execution_count": null,
   "metadata": {
    "collapsed": false
   },
   "outputs": [],
   "source": [
    "test['Max_Fin_Aid'].iloc[0]"
   ]
  },
  {
   "cell_type": "code",
   "execution_count": null,
   "metadata": {
    "collapsed": false
   },
   "outputs": [],
   "source": [
    "uhhh = nls_df[['R0054900','R1760200', 'R1760300', 'R1760400', 'R1760500', 'R3056100', 'R3056200', 'R3056300', 'R3056400', 'R3056500', 'R3056600', 'R3056700', 'R3056800', 'R3056900', 'R4336800', 'R4336900', 'R4337000', 'R4337100', 'R4337200', 'R4337300', 'R4337400', 'R4337500', 'R4337600', 'R6009400', 'R6009500', 'R6009600', 'R6009700', 'R6009800', 'R6009900', 'R6010000', 'R6010100', 'R6010200', 'S0416400', 'S0416500', 'S0416600', 'S0416700', 'S0416800', 'S0416900', 'S0417000', 'S0417100', 'S0417200', 'S0417300', 'S0417400', 'S2446400', 'S2446500', 'S2446600', 'S2446700', 'S2446800', 'S2446900', 'S2447000', 'S2447100', 'S2447200', 'S2447300', 'S2447400', 'S2447500']].iloc[0]"
   ]
  },
  {
   "cell_type": "code",
   "execution_count": null,
   "metadata": {
    "collapsed": false
   },
   "outputs": [],
   "source": [
    "uhhh"
   ]
  },
  {
   "cell_type": "code",
   "execution_count": null,
   "metadata": {
    "collapsed": true
   },
   "outputs": [],
   "source": []
  }
 ],
 "metadata": {
  "kernelspec": {
   "display_name": "Python 3",
   "language": "python",
   "name": "python3"
  },
  "language_info": {
   "codemirror_mode": {
    "name": "ipython",
    "version": 3
   },
   "file_extension": ".py",
   "mimetype": "text/x-python",
   "name": "python",
   "nbconvert_exporter": "python",
   "pygments_lexer": "ipython3",
   "version": "3.6.0"
  }
 },
 "nbformat": 4,
 "nbformat_minor": 2
}
